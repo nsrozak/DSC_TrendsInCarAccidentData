{
 "cells": [
  {
   "cell_type": "markdown",
   "metadata": {},
   "source": [
    "# Trends in Car Accident Data\n",
    "\n",
    "In this project, I explore trends in data about car accidents. I learned about data wrangling and creating charts in Python."
   ]
  },
  {
   "cell_type": "markdown",
   "metadata": {},
   "source": [
    "# Global"
   ]
  },
  {
   "cell_type": "code",
   "execution_count": 1,
   "metadata": {},
   "outputs": [],
   "source": [
    "# imports\n",
    "import matplotlib.pyplot as plt\n",
    "from matplotlib.pyplot import figure\n",
    "import numpy as np\n",
    "import pandas as pd\n",
    "import time\n",
    "import pylab"
   ]
  },
  {
   "cell_type": "markdown",
   "metadata": {},
   "source": [
    "# Data Wrangling"
   ]
  },
  {
   "cell_type": "markdown",
   "metadata": {},
   "source": [
    "### Exploring and Selecting Columns"
   ]
  },
  {
   "cell_type": "code",
   "execution_count": 2,
   "metadata": {},
   "outputs": [],
   "source": [
    "# import data into Python\n",
    "Accidents = pd.read_csv('/Users/jlmac01/Downloads/Accidents0515.csv')"
   ]
  },
  {
   "cell_type": "code",
   "execution_count": 3,
   "metadata": {},
   "outputs": [
    {
     "data": {
      "text/plain": [
       "(1780653, 32)"
      ]
     },
     "execution_count": 3,
     "metadata": {},
     "output_type": "execute_result"
    }
   ],
   "source": [
    "Accidents.shape"
   ]
  },
  {
   "cell_type": "code",
   "execution_count": 4,
   "metadata": {
    "scrolled": true
   },
   "outputs": [
    {
     "data": {
      "text/html": [
       "<div>\n",
       "<style scoped>\n",
       "    .dataframe tbody tr th:only-of-type {\n",
       "        vertical-align: middle;\n",
       "    }\n",
       "\n",
       "    .dataframe tbody tr th {\n",
       "        vertical-align: top;\n",
       "    }\n",
       "\n",
       "    .dataframe thead th {\n",
       "        text-align: right;\n",
       "    }\n",
       "</style>\n",
       "<table border=\"1\" class=\"dataframe\">\n",
       "  <thead>\n",
       "    <tr style=\"text-align: right;\">\n",
       "      <th></th>\n",
       "      <th>Accident_Index</th>\n",
       "      <th>Location_Easting_OSGR</th>\n",
       "      <th>Location_Northing_OSGR</th>\n",
       "      <th>Longitude</th>\n",
       "      <th>Latitude</th>\n",
       "      <th>Police_Force</th>\n",
       "      <th>Accident_Severity</th>\n",
       "      <th>Number_of_Vehicles</th>\n",
       "      <th>Number_of_Casualties</th>\n",
       "      <th>Date</th>\n",
       "      <th>...</th>\n",
       "      <th>Pedestrian_Crossing-Human_Control</th>\n",
       "      <th>Pedestrian_Crossing-Physical_Facilities</th>\n",
       "      <th>Light_Conditions</th>\n",
       "      <th>Weather_Conditions</th>\n",
       "      <th>Road_Surface_Conditions</th>\n",
       "      <th>Special_Conditions_at_Site</th>\n",
       "      <th>Carriageway_Hazards</th>\n",
       "      <th>Urban_or_Rural_Area</th>\n",
       "      <th>Did_Police_Officer_Attend_Scene_of_Accident</th>\n",
       "      <th>LSOA_of_Accident_Location</th>\n",
       "    </tr>\n",
       "  </thead>\n",
       "  <tbody>\n",
       "    <tr>\n",
       "      <th>0</th>\n",
       "      <td>200501BS00001</td>\n",
       "      <td>525680.0</td>\n",
       "      <td>178240.0</td>\n",
       "      <td>-0.191170</td>\n",
       "      <td>51.489096</td>\n",
       "      <td>1</td>\n",
       "      <td>2</td>\n",
       "      <td>1</td>\n",
       "      <td>1</td>\n",
       "      <td>04/01/2005</td>\n",
       "      <td>...</td>\n",
       "      <td>0</td>\n",
       "      <td>1</td>\n",
       "      <td>1</td>\n",
       "      <td>2</td>\n",
       "      <td>2</td>\n",
       "      <td>0</td>\n",
       "      <td>0</td>\n",
       "      <td>1</td>\n",
       "      <td>1</td>\n",
       "      <td>E01002849</td>\n",
       "    </tr>\n",
       "    <tr>\n",
       "      <th>1</th>\n",
       "      <td>200501BS00002</td>\n",
       "      <td>524170.0</td>\n",
       "      <td>181650.0</td>\n",
       "      <td>-0.211708</td>\n",
       "      <td>51.520075</td>\n",
       "      <td>1</td>\n",
       "      <td>3</td>\n",
       "      <td>1</td>\n",
       "      <td>1</td>\n",
       "      <td>05/01/2005</td>\n",
       "      <td>...</td>\n",
       "      <td>0</td>\n",
       "      <td>5</td>\n",
       "      <td>4</td>\n",
       "      <td>1</td>\n",
       "      <td>1</td>\n",
       "      <td>0</td>\n",
       "      <td>0</td>\n",
       "      <td>1</td>\n",
       "      <td>1</td>\n",
       "      <td>E01002909</td>\n",
       "    </tr>\n",
       "    <tr>\n",
       "      <th>2</th>\n",
       "      <td>200501BS00003</td>\n",
       "      <td>524520.0</td>\n",
       "      <td>182240.0</td>\n",
       "      <td>-0.206458</td>\n",
       "      <td>51.525301</td>\n",
       "      <td>1</td>\n",
       "      <td>3</td>\n",
       "      <td>2</td>\n",
       "      <td>1</td>\n",
       "      <td>06/01/2005</td>\n",
       "      <td>...</td>\n",
       "      <td>0</td>\n",
       "      <td>0</td>\n",
       "      <td>4</td>\n",
       "      <td>1</td>\n",
       "      <td>1</td>\n",
       "      <td>0</td>\n",
       "      <td>0</td>\n",
       "      <td>1</td>\n",
       "      <td>1</td>\n",
       "      <td>E01002857</td>\n",
       "    </tr>\n",
       "    <tr>\n",
       "      <th>3</th>\n",
       "      <td>200501BS00004</td>\n",
       "      <td>526900.0</td>\n",
       "      <td>177530.0</td>\n",
       "      <td>-0.173862</td>\n",
       "      <td>51.482442</td>\n",
       "      <td>1</td>\n",
       "      <td>3</td>\n",
       "      <td>1</td>\n",
       "      <td>1</td>\n",
       "      <td>07/01/2005</td>\n",
       "      <td>...</td>\n",
       "      <td>0</td>\n",
       "      <td>0</td>\n",
       "      <td>1</td>\n",
       "      <td>1</td>\n",
       "      <td>1</td>\n",
       "      <td>0</td>\n",
       "      <td>0</td>\n",
       "      <td>1</td>\n",
       "      <td>1</td>\n",
       "      <td>E01002840</td>\n",
       "    </tr>\n",
       "    <tr>\n",
       "      <th>4</th>\n",
       "      <td>200501BS00005</td>\n",
       "      <td>528060.0</td>\n",
       "      <td>179040.0</td>\n",
       "      <td>-0.156618</td>\n",
       "      <td>51.495752</td>\n",
       "      <td>1</td>\n",
       "      <td>3</td>\n",
       "      <td>1</td>\n",
       "      <td>1</td>\n",
       "      <td>10/01/2005</td>\n",
       "      <td>...</td>\n",
       "      <td>0</td>\n",
       "      <td>0</td>\n",
       "      <td>7</td>\n",
       "      <td>1</td>\n",
       "      <td>2</td>\n",
       "      <td>0</td>\n",
       "      <td>0</td>\n",
       "      <td>1</td>\n",
       "      <td>1</td>\n",
       "      <td>E01002863</td>\n",
       "    </tr>\n",
       "  </tbody>\n",
       "</table>\n",
       "<p>5 rows × 32 columns</p>\n",
       "</div>"
      ],
      "text/plain": [
       "  Accident_Index  Location_Easting_OSGR  Location_Northing_OSGR  Longitude  \\\n",
       "0  200501BS00001               525680.0                178240.0  -0.191170   \n",
       "1  200501BS00002               524170.0                181650.0  -0.211708   \n",
       "2  200501BS00003               524520.0                182240.0  -0.206458   \n",
       "3  200501BS00004               526900.0                177530.0  -0.173862   \n",
       "4  200501BS00005               528060.0                179040.0  -0.156618   \n",
       "\n",
       "    Latitude  Police_Force  Accident_Severity  Number_of_Vehicles  \\\n",
       "0  51.489096             1                  2                   1   \n",
       "1  51.520075             1                  3                   1   \n",
       "2  51.525301             1                  3                   2   \n",
       "3  51.482442             1                  3                   1   \n",
       "4  51.495752             1                  3                   1   \n",
       "\n",
       "   Number_of_Casualties        Date            ...              \\\n",
       "0                     1  04/01/2005            ...               \n",
       "1                     1  05/01/2005            ...               \n",
       "2                     1  06/01/2005            ...               \n",
       "3                     1  07/01/2005            ...               \n",
       "4                     1  10/01/2005            ...               \n",
       "\n",
       "   Pedestrian_Crossing-Human_Control Pedestrian_Crossing-Physical_Facilities  \\\n",
       "0                                  0                                       1   \n",
       "1                                  0                                       5   \n",
       "2                                  0                                       0   \n",
       "3                                  0                                       0   \n",
       "4                                  0                                       0   \n",
       "\n",
       "   Light_Conditions Weather_Conditions  Road_Surface_Conditions  \\\n",
       "0                 1                  2                        2   \n",
       "1                 4                  1                        1   \n",
       "2                 4                  1                        1   \n",
       "3                 1                  1                        1   \n",
       "4                 7                  1                        2   \n",
       "\n",
       "   Special_Conditions_at_Site  Carriageway_Hazards  Urban_or_Rural_Area  \\\n",
       "0                           0                    0                    1   \n",
       "1                           0                    0                    1   \n",
       "2                           0                    0                    1   \n",
       "3                           0                    0                    1   \n",
       "4                           0                    0                    1   \n",
       "\n",
       "   Did_Police_Officer_Attend_Scene_of_Accident  LSOA_of_Accident_Location  \n",
       "0                                            1                  E01002849  \n",
       "1                                            1                  E01002909  \n",
       "2                                            1                  E01002857  \n",
       "3                                            1                  E01002840  \n",
       "4                                            1                  E01002863  \n",
       "\n",
       "[5 rows x 32 columns]"
      ]
     },
     "execution_count": 4,
     "metadata": {},
     "output_type": "execute_result"
    }
   ],
   "source": [
    "# view a few rows of data\n",
    "Accidents.head()"
   ]
  },
  {
   "cell_type": "code",
   "execution_count": 5,
   "metadata": {},
   "outputs": [
    {
     "data": {
      "text/plain": [
       "Index(['Accident_Index', 'Location_Easting_OSGR', 'Location_Northing_OSGR',\n",
       "       'Longitude', 'Latitude', 'Police_Force', 'Accident_Severity',\n",
       "       'Number_of_Vehicles', 'Number_of_Casualties', 'Date', 'Day_of_Week',\n",
       "       'Time', 'Local_Authority_(District)', 'Local_Authority_(Highway)',\n",
       "       '1st_Road_Class', '1st_Road_Number', 'Road_Type', 'Speed_limit',\n",
       "       'Junction_Detail', 'Junction_Control', '2nd_Road_Class',\n",
       "       '2nd_Road_Number', 'Pedestrian_Crossing-Human_Control',\n",
       "       'Pedestrian_Crossing-Physical_Facilities', 'Light_Conditions',\n",
       "       'Weather_Conditions', 'Road_Surface_Conditions',\n",
       "       'Special_Conditions_at_Site', 'Carriageway_Hazards',\n",
       "       'Urban_or_Rural_Area', 'Did_Police_Officer_Attend_Scene_of_Accident',\n",
       "       'LSOA_of_Accident_Location'],\n",
       "      dtype='object')"
      ]
     },
     "execution_count": 5,
     "metadata": {},
     "output_type": "execute_result"
    }
   ],
   "source": [
    "Accidents.columns"
   ]
  },
  {
   "cell_type": "code",
   "execution_count": 6,
   "metadata": {},
   "outputs": [],
   "source": [
    "# select columns I am interested in analyzing\n",
    "New_Accidents = Accidents.iloc[:,[6,7,8,10,11,16,17, 19, 22, 23, 24, 25, 26, 27, 28]]"
   ]
  },
  {
   "cell_type": "code",
   "execution_count": 7,
   "metadata": {},
   "outputs": [
    {
     "data": {
      "text/plain": [
       "(1780653, 15)"
      ]
     },
     "execution_count": 7,
     "metadata": {},
     "output_type": "execute_result"
    }
   ],
   "source": [
    "New_Accidents.shape"
   ]
  },
  {
   "cell_type": "code",
   "execution_count": 8,
   "metadata": {},
   "outputs": [
    {
     "data": {
      "text/plain": [
       "Index(['Accident_Severity', 'Number_of_Vehicles', 'Number_of_Casualties',\n",
       "       'Day_of_Week', 'Time', 'Road_Type', 'Speed_limit', 'Junction_Control',\n",
       "       'Pedestrian_Crossing-Human_Control',\n",
       "       'Pedestrian_Crossing-Physical_Facilities', 'Light_Conditions',\n",
       "       'Weather_Conditions', 'Road_Surface_Conditions',\n",
       "       'Special_Conditions_at_Site', 'Carriageway_Hazards'],\n",
       "      dtype='object')"
      ]
     },
     "execution_count": 8,
     "metadata": {},
     "output_type": "execute_result"
    }
   ],
   "source": [
    "New_Accidents.columns"
   ]
  },
  {
   "cell_type": "code",
   "execution_count": 9,
   "metadata": {},
   "outputs": [
    {
     "data": {
      "text/html": [
       "<div>\n",
       "<style scoped>\n",
       "    .dataframe tbody tr th:only-of-type {\n",
       "        vertical-align: middle;\n",
       "    }\n",
       "\n",
       "    .dataframe tbody tr th {\n",
       "        vertical-align: top;\n",
       "    }\n",
       "\n",
       "    .dataframe thead th {\n",
       "        text-align: right;\n",
       "    }\n",
       "</style>\n",
       "<table border=\"1\" class=\"dataframe\">\n",
       "  <thead>\n",
       "    <tr style=\"text-align: right;\">\n",
       "      <th></th>\n",
       "      <th>Pedestrian_Crossing-Human_Control</th>\n",
       "      <th>Pedestrian_Crossing-Physical_Facilities</th>\n",
       "    </tr>\n",
       "  </thead>\n",
       "  <tbody>\n",
       "  </tbody>\n",
       "</table>\n",
       "</div>"
      ],
      "text/plain": [
       "Empty DataFrame\n",
       "Columns: [Pedestrian_Crossing-Human_Control, Pedestrian_Crossing-Physical_Facilities]\n",
       "Index: []"
      ]
     },
     "execution_count": 9,
     "metadata": {},
     "output_type": "execute_result"
    }
   ],
   "source": [
    "# there are a few column names that are a little difficult to work with\n",
    "New_Accidents.iloc[:,[8,9]].head(0)"
   ]
  },
  {
   "cell_type": "code",
   "execution_count": 10,
   "metadata": {},
   "outputs": [],
   "source": [
    "# fix column names\n",
    "New_Accidents = New_Accidents.rename(columns={New_Accidents.columns[8]: \"Pedestrian_Crossing_Human\", \n",
    "                                              New_Accidents.columns[9]: \"Pedestrian_Crossing_Physical\"},)"
   ]
  },
  {
   "cell_type": "code",
   "execution_count": 11,
   "metadata": {},
   "outputs": [
    {
     "data": {
      "text/html": [
       "<div>\n",
       "<style scoped>\n",
       "    .dataframe tbody tr th:only-of-type {\n",
       "        vertical-align: middle;\n",
       "    }\n",
       "\n",
       "    .dataframe tbody tr th {\n",
       "        vertical-align: top;\n",
       "    }\n",
       "\n",
       "    .dataframe thead th {\n",
       "        text-align: right;\n",
       "    }\n",
       "</style>\n",
       "<table border=\"1\" class=\"dataframe\">\n",
       "  <thead>\n",
       "    <tr style=\"text-align: right;\">\n",
       "      <th></th>\n",
       "      <th>Pedestrian_Crossing_Human</th>\n",
       "      <th>Pedestrian_Crossing_Physical</th>\n",
       "    </tr>\n",
       "  </thead>\n",
       "  <tbody>\n",
       "  </tbody>\n",
       "</table>\n",
       "</div>"
      ],
      "text/plain": [
       "Empty DataFrame\n",
       "Columns: [Pedestrian_Crossing_Human, Pedestrian_Crossing_Physical]\n",
       "Index: []"
      ]
     },
     "execution_count": 11,
     "metadata": {},
     "output_type": "execute_result"
    }
   ],
   "source": [
    "# verify new column names are correct\n",
    "New_Accidents.iloc[:,[8,9]].head(0)"
   ]
  },
  {
   "cell_type": "markdown",
   "metadata": {},
   "source": [
    "### Remove Missing Values"
   ]
  },
  {
   "cell_type": "code",
   "execution_count": 12,
   "metadata": {},
   "outputs": [
    {
     "data": {
      "text/plain": [
       "Accident_Severity                 0\n",
       "Number_of_Vehicles                0\n",
       "Number_of_Casualties              0\n",
       "Day_of_Week                       0\n",
       "Time                            151\n",
       "Road_Type                         0\n",
       "Speed_limit                       0\n",
       "Junction_Control                  0\n",
       "Pedestrian_Crossing_Human         0\n",
       "Pedestrian_Crossing_Physical      0\n",
       "Light_Conditions                  0\n",
       "Weather_Conditions                0\n",
       "Road_Surface_Conditions           0\n",
       "Special_Conditions_at_Site        0\n",
       "Carriageway_Hazards               0\n",
       "dtype: int64"
      ]
     },
     "execution_count": 12,
     "metadata": {},
     "output_type": "execute_result"
    }
   ],
   "source": [
    "# see if there are null values\n",
    "New_Accidents.isnull().sum()"
   ]
  },
  {
   "cell_type": "code",
   "execution_count": 13,
   "metadata": {},
   "outputs": [],
   "source": [
    "# replace -1 data with NaN\n",
    "# if data was -1, it means the data was missing or out of range\n",
    "New_Accidents.Junction_Control.replace(-1, np.NaN, inplace=True)\n",
    "New_Accidents.Pedestrian_Crossing_Human.replace(-1, np.NaN, inplace=True)\n",
    "New_Accidents.Pedestrian_Crossing_Physical.replace(-1, np.NaN, inplace=True)\n",
    "New_Accidents.Weather_Conditions.replace(-1, np.NaN, inplace=True)\n",
    "New_Accidents.Road_Surface_Conditions.replace(-1, np.NaN, inplace=True)\n",
    "New_Accidents.Special_Conditions_at_Site.replace(-1, np.NaN, inplace=True)\n",
    "New_Accidents.Carriageway_Hazards.replace(-1, np.NaN, inplace=True)"
   ]
  },
  {
   "cell_type": "code",
   "execution_count": 14,
   "metadata": {},
   "outputs": [
    {
     "data": {
      "text/plain": [
       "Accident_Severity                    0\n",
       "Number_of_Vehicles                   0\n",
       "Number_of_Casualties                 0\n",
       "Day_of_Week                          0\n",
       "Time                               151\n",
       "Road_Type                            0\n",
       "Speed_limit                          0\n",
       "Junction_Control                641392\n",
       "Pedestrian_Crossing_Human          161\n",
       "Pedestrian_Crossing_Physical       164\n",
       "Light_Conditions                     0\n",
       "Weather_Conditions                 161\n",
       "Road_Surface_Conditions           2439\n",
       "Special_Conditions_at_Site         124\n",
       "Carriageway_Hazards                127\n",
       "dtype: int64"
      ]
     },
     "execution_count": 14,
     "metadata": {},
     "output_type": "execute_result"
    }
   ],
   "source": [
    "# confirm -1 data points were converted to NaN\n",
    "New_Accidents.isnull().sum()"
   ]
  },
  {
   "cell_type": "code",
   "execution_count": 15,
   "metadata": {},
   "outputs": [],
   "source": [
    "# delete all rows that contain a NaN\n",
    "New_Accidents.dropna(inplace=True)"
   ]
  },
  {
   "cell_type": "code",
   "execution_count": 16,
   "metadata": {},
   "outputs": [
    {
     "data": {
      "text/plain": [
       "Accident_Severity               0\n",
       "Number_of_Vehicles              0\n",
       "Number_of_Casualties            0\n",
       "Day_of_Week                     0\n",
       "Time                            0\n",
       "Road_Type                       0\n",
       "Speed_limit                     0\n",
       "Junction_Control                0\n",
       "Pedestrian_Crossing_Human       0\n",
       "Pedestrian_Crossing_Physical    0\n",
       "Light_Conditions                0\n",
       "Weather_Conditions              0\n",
       "Road_Surface_Conditions         0\n",
       "Special_Conditions_at_Site      0\n",
       "Carriageway_Hazards             0\n",
       "dtype: int64"
      ]
     },
     "execution_count": 16,
     "metadata": {},
     "output_type": "execute_result"
    }
   ],
   "source": [
    "# confirm NaN rows were dropped\n",
    "New_Accidents.isnull().sum()"
   ]
  },
  {
   "cell_type": "code",
   "execution_count": 17,
   "metadata": {},
   "outputs": [
    {
     "data": {
      "text/plain": [
       "(1137462, 15)"
      ]
     },
     "execution_count": 17,
     "metadata": {},
     "output_type": "execute_result"
    }
   ],
   "source": [
    "New_Accidents.shape"
   ]
  },
  {
   "cell_type": "markdown",
   "metadata": {},
   "source": [
    "### Remove Duplicates"
   ]
  },
  {
   "cell_type": "code",
   "execution_count": 18,
   "metadata": {
    "scrolled": true
   },
   "outputs": [],
   "source": [
    "# remove duplicates\n",
    "New_Accidents.drop_duplicates(inplace=True)"
   ]
  },
  {
   "cell_type": "code",
   "execution_count": 19,
   "metadata": {},
   "outputs": [
    {
     "data": {
      "text/plain": [
       "(699258, 15)"
      ]
     },
     "execution_count": 19,
     "metadata": {},
     "output_type": "execute_result"
    }
   ],
   "source": [
    "New_Accidents.shape"
   ]
  },
  {
   "cell_type": "markdown",
   "metadata": {},
   "source": [
    "### Convert Time Data\n",
    "The compiler was unable to handle the format of the Time data. To correct this issue, I converted the Time data to a time data type."
   ]
  },
  {
   "cell_type": "code",
   "execution_count": 20,
   "metadata": {},
   "outputs": [
    {
     "data": {
      "text/plain": [
       "dtype('O')"
      ]
     },
     "execution_count": 20,
     "metadata": {},
     "output_type": "execute_result"
    }
   ],
   "source": [
    "New_Accidents['Time'].dtype"
   ]
  },
  {
   "cell_type": "code",
   "execution_count": 21,
   "metadata": {
    "scrolled": true
   },
   "outputs": [],
   "source": [
    "# fix time - needs to be a datatype that can be operated on with matplotlib\n",
    "New_Accidents['Time'] = pd.to_datetime(New_Accidents['Time'])"
   ]
  },
  {
   "cell_type": "code",
   "execution_count": 22,
   "metadata": {},
   "outputs": [
    {
     "data": {
      "text/plain": [
       "dtype('<M8[ns]')"
      ]
     },
     "execution_count": 22,
     "metadata": {},
     "output_type": "execute_result"
    }
   ],
   "source": [
    "New_Accidents['Time'].dtype"
   ]
  },
  {
   "cell_type": "markdown",
   "metadata": {},
   "source": [
    "# Data Analysis\n",
    "\n",
    "## Learn About Number_of_Casualties\n",
    "I am interested in exploring Number_of_Casualties compared to other variables with scatterplots later in the program. To get a general idea about the data points in Number_of_Casualties, I used some built in functions here. "
   ]
  },
  {
   "cell_type": "code",
   "execution_count": 23,
   "metadata": {},
   "outputs": [
    {
     "data": {
      "text/plain": [
       "Number_of_Casualties\n",
       "1     489756\n",
       "2     138728\n",
       "3      44412\n",
       "4      16457\n",
       "5       6176\n",
       "6       2251\n",
       "7        732\n",
       "8        305\n",
       "9        163\n",
       "10        83\n",
       "11        57\n",
       "12        27\n",
       "13        20\n",
       "14        13\n",
       "15        10\n",
       "16        10\n",
       "17         7\n",
       "18         9\n",
       "19         6\n",
       "20         1\n",
       "21         6\n",
       "22         6\n",
       "23         2\n",
       "24         3\n",
       "25         1\n",
       "26         2\n",
       "27         1\n",
       "28         1\n",
       "29         3\n",
       "34         1\n",
       "35         1\n",
       "36         1\n",
       "41         1\n",
       "42         1\n",
       "43         1\n",
       "48         1\n",
       "63         1\n",
       "68         1\n",
       "87         1\n",
       "dtype: int64"
      ]
     },
     "execution_count": 23,
     "metadata": {},
     "output_type": "execute_result"
    }
   ],
   "source": [
    "New_Accidents.groupby('Number_of_Casualties').size()"
   ]
  },
  {
   "cell_type": "code",
   "execution_count": 24,
   "metadata": {
    "scrolled": true
   },
   "outputs": [
    {
     "data": {
      "text/plain": [
       "count   699258.0000\n",
       "mean         1.4640\n",
       "std          0.9202\n",
       "min          1.0000\n",
       "25%          1.0000\n",
       "50%          1.0000\n",
       "75%          2.0000\n",
       "max         87.0000\n",
       "Name: Number_of_Casualties, dtype: float64"
      ]
     },
     "execution_count": 24,
     "metadata": {},
     "output_type": "execute_result"
    }
   ],
   "source": [
    "pd.options.display.float_format = '{:.4f}'.format # ensure numeric, not scientific notation, is used\n",
    "New_Accidents['Number_of_Casualties'].describe()"
   ]
  },
  {
   "cell_type": "markdown",
   "metadata": {},
   "source": [
    "## Histograms\n",
    "I created histograms for the data in "
   ]
  },
  {
   "cell_type": "code",
   "execution_count": 25,
   "metadata": {
    "scrolled": true
   },
   "outputs": [
    {
     "data": {
      "image/png": "[encoded data removed]",
      "text/plain": [
       "<Figure size 432x288 with 1 Axes>"
      ]
     },
     "metadata": {
      "needs_background": "light"
     },
     "output_type": "display_data"
    }
   ],
   "source": [
    "# histogram of Accident_Severity\n",
    "#Accident_Severity_Axis = New_Accidents['Accident_Severity'].swapaxes(copy=True)\n",
    "names = [' ','fatal', ' ', 'serious', ' ', 'slight']\n",
    "fig, ax = plt.subplots() # tuple becomes fig and ax\n",
    "plt.hist(New_Accidents['Accident_Severity'], bins=[1, 2, 3, 4])\n",
    "plt.xlabel('Accident Rating')\n",
    "plt.ylabel('Number of Accidents')\n",
    "ax.set_xticklabels(names)\n",
    "plt.show();"
   ]
  },
  {
   "cell_type": "markdown",
   "metadata": {},
   "source": [
    "From the histogram about Accident_Severity, we learn most accidents were slightly severe."
   ]
  },
  {
   "cell_type": "code",
   "execution_count": 26,
   "metadata": {},
   "outputs": [
    {
     "data": {
      "image/png": "[encoded data removed]",
      "text/plain": [
       "<Figure size 432x288 with 1 Axes>"
      ]
     },
     "metadata": {
      "needs_background": "light"
     },
     "output_type": "display_data"
    }
   ],
   "source": [
    "# histogram of Light_Conditions\n",
    "names = ['Daylight', ' ', ' ', 'Darkness-Lights Lit', 'Darkness-Lights Unlit', 'Darkness-No Lighting', \n",
    "         'Darkness-Lighting Unknown']\n",
    "fig, ax = plt.subplots() # tuple becomes fig and ax\n",
    "ax.set_xticks((1, 2, 3, 4, 5, 6, 7, 8))\n",
    "ax.set_xticklabels(names, rotation = 45, rotation_mode = \"anchor\", ha = \"right\")\n",
    "plt.xlabel('Light Condition Rating')\n",
    "plt.ylabel('Number of Accidents')\n",
    "plt.hist(New_Accidents['Light_Conditions'], bins=[1, 2, 3, 4, 5, 6, 7, 8])\n",
    "plt.show();"
   ]
  },
  {
   "cell_type": "markdown",
   "metadata": {},
   "source": [
    "From the histogram, we see that most accidents occur in the daylight. Since most driving happens during the daytime, it makes sense that most accidents would occur during the daytime. "
   ]
  },
  {
   "cell_type": "code",
   "execution_count": 27,
   "metadata": {
    "scrolled": true
   },
   "outputs": [
    {
     "data": {
      "image/png": "[encoded data removed]",
      "text/plain": [
       "<Figure size 432x288 with 1 Axes>"
      ]
     },
     "metadata": {
      "needs_background": "light"
     },
     "output_type": "display_data"
    }
   ],
   "source": [
    "# histogram of Light_Conditions\n",
    "names = ['Fine', 'Rain', 'Snow', 'Fine and Wind', 'Rain and Wind', 'Snow and Wind', 'Fog or Mist', 'Other', 'Unknown']\n",
    "fig, ax = plt.subplots() # tuple becomes fig and ax\n",
    "ax.set_xticks((1, 2, 3, 4, 5, 6, 7, 8, 9, 10))\n",
    "ax.set_xticklabels(names, rotation = 45, rotation_mode = \"anchor\", ha = \"right\")\n",
    "plt.xlabel('Weather Condition Rating')\n",
    "plt.ylabel('Number of Accidents')\n",
    "plt.hist(New_Accidents['Weather_Conditions'], bins=[1, 2, 3, 4, 5, 6, 7, 8, 9, 10])\n",
    "plt.show();"
   ]
  },
  {
   "cell_type": "markdown",
   "metadata": {},
   "source": [
    "From the histogram, we learn most accidents occur when the weather was fine. Since the weather is usually fine in England, this is expected. "
   ]
  },
  {
   "cell_type": "code",
   "execution_count": 28,
   "metadata": {},
   "outputs": [
    {
     "data": {
      "image/png": "[encoded data removed]",
      "text/plain": [
       "<Figure size 720x576 with 1 Axes>"
      ]
     },
     "metadata": {
      "needs_background": "light"
     },
     "output_type": "display_data"
    }
   ],
   "source": [
    "# histogram of Road_Surface_Conditions\n",
    "names = ['Dry', 'Wet', 'Snow', 'Frost or Ice', 'Flood', 'Oil', 'Mud']\n",
    "fig, ax = plt.subplots(figsize=(10,8)) # tuple becomes fig and ax\n",
    "ax.set_xticks((1, 2, 3, 4, 5, 6, 7))\n",
    "ax.set_xticklabels(names, rotation = 45, rotation_mode = \"anchor\", ha = \"right\")\n",
    "plt.xlabel('Road Surface Condition Rating')\n",
    "plt.ylabel('Number of Accidents')\n",
    "plt.hist(New_Accidents['Road_Surface_Conditions'], bins=[1, 2, 3, 4, 5, 6, 7])\n",
    "plt.show()"
   ]
  },
  {
   "cell_type": "markdown",
   "metadata": {},
   "source": [
    "From the histogram about road surface conditions, we learn most accidents occur when the road is dry or wet. Since people mostly drive when the road is dry or wet, this was expected. "
   ]
  },
  {
   "cell_type": "markdown",
   "metadata": {},
   "source": [
    "## Pie Charts\n",
    "\n",
    "I created pie charts for the data in Day_of_Week, Road_Type, Pedestrian_Crossing_Human, Pedestrian_Crossing_Physical, and Special_Conditions_at_Site. Pie charts depict the composition of a column. Each slice represents a different category that a variable can take. The size of each slice is determined by the percent of the population that corresponds to the category represented by the slice.\n"
   ]
  },
  {
   "cell_type": "code",
   "execution_count": 29,
   "metadata": {
    "scrolled": true
   },
   "outputs": [
    {
     "data": {
      "text/plain": [
       "Text(0,0.5,'')"
      ]
     },
     "execution_count": 29,
     "metadata": {},
     "output_type": "execute_result"
    },
    {
     "data": {
      "image/png": "[encoded data removed]",
      "text/plain": [
       "<Figure size 360x360 with 1 Axes>"
      ]
     },
     "metadata": {},
     "output_type": "display_data"
    }
   ],
   "source": [
    "# pie chart of Day_of_Week\n",
    "Day_of_Week_group = New_Accidents.groupby('Day_of_Week').size()\n",
    "Day_of_Week_group\n",
    "Day_of_Week_group.rename(index={1: \"Sunday\", 2: \"Monday\", 3: \"Tuesday\", 4: \"Wednesday\", 5: \"Thursday\",\n",
    "                               6: \"Friday\", 7: \"Saturday\"}, inplace = True)\n",
    "Day_of_Week_group\n",
    "plot = Day_of_Week_group.plot.pie(subplots=True, figsize=(5,5))\n",
    "pylab.ylabel('') # remove the y label"
   ]
  },
  {
   "cell_type": "markdown",
   "metadata": {},
   "source": [
    "The pie chart conveys that each day of the week has approximately the same number of car accidents. This is because each slice is approximately the same size. "
   ]
  },
  {
   "cell_type": "code",
   "execution_count": 30,
   "metadata": {},
   "outputs": [
    {
     "data": {
      "text/plain": [
       "Text(0,0.5,'')"
      ]
     },
     "execution_count": 30,
     "metadata": {},
     "output_type": "execute_result"
    },
    {
     "data": {
      "image/png": "[encoded data removed]",
      "text/plain": [
       "<Figure size 360x360 with 1 Axes>"
      ]
     },
     "metadata": {},
     "output_type": "display_data"
    }
   ],
   "source": [
    "# pie chart of Road_Type\n",
    "Road_Type_group = New_Accidents.groupby('Road_Type').size()\n",
    "Road_Type_group\n",
    "Road_Type_group.rename(index={1: \"Roundabout\", 2: \"One Way Street\", 3: \"Dual Carriageway\", 6: \"Single Carriageway\",\n",
    "                             7: \"Slip Road\", 9: \"Unknown\", 12: \"One Way Street/Slip Road\"}, inplace = True)\n",
    "Road_Type_group\n",
    "plot = Road_Type_group.plot.pie(subplots=True, figsize=(5,5))\n",
    "pylab.ylabel('') # remove the y label"
   ]
  },
  {
   "cell_type": "markdown",
   "metadata": {},
   "source": [
    "The pie chart shows that most car accidents occurred on Single Carriageway roads. Also, Dual Carriageway roads and Roundabouts have a significant amount of accidents. Since most roads are Single Carriageway or Dual Carriageway, we would expect most accidents to occur on these road types. "
   ]
  },
  {
   "cell_type": "code",
   "execution_count": 31,
   "metadata": {
    "scrolled": true
   },
   "outputs": [
    {
     "data": {
      "text/plain": [
       "Text(0,0.5,'')"
      ]
     },
     "execution_count": 31,
     "metadata": {},
     "output_type": "execute_result"
    },
    {
     "data": {
      "image/png": "[encoded data removed]",
      "text/plain": [
       "<Figure size 360x360 with 1 Axes>"
      ]
     },
     "metadata": {},
     "output_type": "display_data"
    }
   ],
   "source": [
    "# pie chart of Pedestrian_Crossing_Human\n",
    "Pedestrian_Crossing_Human_group = New_Accidents.groupby('Pedestrian_Crossing_Human').size()\n",
    "Pedestrian_Crossing_Human_group\n",
    "Pedestrian_Crossing_Human_group.rename(index={0: \"None\", 1: \"Controlled by School Crossing Patrol\",\n",
    "                                             2: \"Controlled by Other\"}, inplace = True)\n",
    "Pedestrian_Crossing_Human_group\n",
    "plot = Pedestrian_Crossing_Human_group.plot.pie(subplots=True, figsize=(5,5))\n",
    "pylab.ylabel('') # remove the y label"
   ]
  },
  {
   "cell_type": "markdown",
   "metadata": {},
   "source": [
    "From the pie chart, we see if a pedestrian is involved in a car accident, usually there is not a crossing patrol officer present at the location. This is expected, since crossing patrol officers are expected to keep intersections safe and assist pedestrians in crossing streets. "
   ]
  },
  {
   "cell_type": "code",
   "execution_count": 32,
   "metadata": {},
   "outputs": [
    {
     "data": {
      "text/plain": [
       "Text(0,0.5,'')"
      ]
     },
     "execution_count": 32,
     "metadata": {},
     "output_type": "execute_result"
    },
    {
     "data": {
      "image/png": "[encoded data removed]",
      "text/plain": [
       "<Figure size 360x360 with 1 Axes>"
      ]
     },
     "metadata": {},
     "output_type": "display_data"
    }
   ],
   "source": [
    "# pie chart of Pedestrian_Crossing_Physical\n",
    "Pedestrian_Crossing_Physical_group = New_Accidents.groupby('Pedestrian_Crossing_Physical').size()\n",
    "Pedestrian_Crossing_Physical_group\n",
    "Pedestrian_Crossing_Physical_group.rename(index={0: \"None\", 1: \"Zebra Crossing\", 4: \n",
    "                                                \"Non-Junction Pedestrian Light Crossing\", 5: \"Traffic Signal Junction\",\n",
    "                                               7: \"Footbridge or Subway\", 8: \"Central Refuge Island\"}, inplace = True)\n",
    "Pedestrian_Crossing_Physical_group\n",
    "plot = Pedestrian_Crossing_Physical_group.plot.pie(subplots=True, figsize=(5,5))\n",
    "pylab.ylabel('') # remove the y label"
   ]
  },
  {
   "cell_type": "markdown",
   "metadata": {},
   "source": [
    "From the pie chart, we see most accidents involving pedestrians occur when pedestrians are crossing a road where there is not markings, a traffic signal, or some other device to ensure cars are aware of pedestrians and will yield. "
   ]
  },
  {
   "cell_type": "code",
   "execution_count": 33,
   "metadata": {},
   "outputs": [
    {
     "data": {
      "text/plain": [
       "Text(0,0.5,'')"
      ]
     },
     "execution_count": 33,
     "metadata": {},
     "output_type": "execute_result"
    },
    {
     "data": {
      "image/png": "[encoded data removed]",
      "text/plain": [
       "<Figure size 360x360 with 1 Axes>"
      ]
     },
     "metadata": {},
     "output_type": "display_data"
    }
   ],
   "source": [
    "# pie chart of Special_Conditions_at_Site\n",
    "Special_Conditions_at_Site_group = New_Accidents.groupby('Special_Conditions_at_Site').size()\n",
    "Special_Conditions_at_Site_group\n",
    "Special_Conditions_at_Site_group.rename(index={0: \"None\", 1: \"Signal Out\", 2: \"Singal Part Defective\", \n",
    "                                              3: \"Road Sign Defective\", 4: \"Roadworks\", 5: \"Road Surface Defective\",\n",
    "                                              6: \"Oil or Diesel\", 7: \"Mud\"}, inplace = True)\n",
    "Special_Conditions_at_Site_group\n",
    "plot = Special_Conditions_at_Site_group.plot.pie(subplots=True, figsize=(5,5))\n",
    "pylab.ylabel('') # remove the y label"
   ]
  },
  {
   "cell_type": "markdown",
   "metadata": {},
   "source": [
    "From the pie chart, we see most accidents occur when all safety elements at a site are in working order. "
   ]
  },
  {
   "cell_type": "markdown",
   "metadata": {},
   "source": [
    "## Box Charts\n",
    "I created box charts about Number_of_Casualties, Number_of_Vehicles, and Speed_limit. The box in box charts shows us where the 25th and 75th percentiles are, and 50% of the data lies within the box. The whiskers shows where the interquartile range is. Circles represent data points that lie outside the interquartile range. Boxplots depict the distribution of a dataset. "
   ]
  },
  {
   "cell_type": "code",
   "execution_count": 34,
   "metadata": {},
   "outputs": [
    {
     "data": {
      "text/plain": [
       "<matplotlib.axes._subplots.AxesSubplot at 0x11c853e80>"
      ]
     },
     "execution_count": 34,
     "metadata": {},
     "output_type": "execute_result"
    },
    {
     "data": {
      "image/png": "[encoded data removed]",
      "text/plain": [
       "<Figure size 432x288 with 1 Axes>"
      ]
     },
     "metadata": {
      "needs_background": "light"
     },
     "output_type": "display_data"
    }
   ],
   "source": [
    "# Number of Casualties\n",
    "New_Accidents.boxplot(column='Number_of_Casualties', vert = False)"
   ]
  },
  {
   "cell_type": "markdown",
   "metadata": {},
   "source": [
    "From the boxplot, we see that the data is skewed right. Therefore, in most accidents, there are a small number of casualties. However, there are some accidents that have many casualties. These accidents do not lie within the 75th percentile of the data, meaning they are unusual. "
   ]
  },
  {
   "cell_type": "code",
   "execution_count": 35,
   "metadata": {},
   "outputs": [
    {
     "data": {
      "text/plain": [
       "<matplotlib.axes._subplots.AxesSubplot at 0x11d79a128>"
      ]
     },
     "execution_count": 35,
     "metadata": {},
     "output_type": "execute_result"
    },
    {
     "data": {
      "image/png": "[encoded data removed]",
      "text/plain": [
       "<Figure size 432x288 with 1 Axes>"
      ]
     },
     "metadata": {
      "needs_background": "light"
     },
     "output_type": "display_data"
    }
   ],
   "source": [
    "# Number of Vehicles\n",
    "New_Accidents.boxplot(column='Number_of_Vehicles', vert = False)"
   ]
  },
  {
   "cell_type": "markdown",
   "metadata": {},
   "source": [
    "From the boxplot, we see that the data is skewed right. In most instances, there are only a few cars involved in an accident. However, in some situations, there were a large number of cars involved in a car accident, but these data points are unusual. "
   ]
  },
  {
   "cell_type": "code",
   "execution_count": 36,
   "metadata": {},
   "outputs": [
    {
     "data": {
      "text/plain": [
       "<matplotlib.axes._subplots.AxesSubplot at 0x11c8a2e48>"
      ]
     },
     "execution_count": 36,
     "metadata": {},
     "output_type": "execute_result"
    },
    {
     "data": {
      "image/png": "[encoded data removed]",
      "text/plain": [
       "<Figure size 432x288 with 1 Axes>"
      ]
     },
     "metadata": {
      "needs_background": "light"
     },
     "output_type": "display_data"
    }
   ],
   "source": [
    "# Speed Limit\n",
    "New_Accidents.boxplot(column='Speed_limit', vert = False)"
   ]
  },
  {
   "cell_type": "markdown",
   "metadata": {},
   "source": [
    "From the scatterplot, we see that the 25th percentile is 30 mph and the 75th percentile is 40 mph, meaning that 50% of the car accidents occurred in this range. The data is fairly symmetric, meaning that there were a significant number of accidents occuring above and below this range too. "
   ]
  },
  {
   "cell_type": "markdown",
   "metadata": {},
   "source": [
    "# Bar Graph\n",
    "I used a bar graph to observe time data. The bar graph shows how many accidents occurred during each hour. "
   ]
  },
  {
   "cell_type": "code",
   "execution_count": 37,
   "metadata": {},
   "outputs": [
    {
     "data": {
      "text/plain": [
       "<matplotlib.axes._subplots.AxesSubplot at 0x11e91fa20>"
      ]
     },
     "execution_count": 37,
     "metadata": {},
     "output_type": "execute_result"
    },
    {
     "data": {
      "image/png": "[encoded data removed]",
      "text/plain": [
       "<Figure size 432x288 with 1 Axes>"
      ]
     },
     "metadata": {
      "needs_background": "light"
     },
     "output_type": "display_data"
    }
   ],
   "source": [
    "# bar graph of Time\n",
    "TimeGraph = New_Accidents['Time'].astype(\"datetime64\")\n",
    "TimeGraph.dtype\n",
    "TimeGraph.groupby(TimeGraph.dt.hour).count().plot(kind=\"bar\")"
   ]
  },
  {
   "cell_type": "markdown",
   "metadata": {},
   "source": [
    "The bar graph shows most accidents occurring during rush hour time (15:00-18:00). This is expected since there are usually many cars on the road during rush hour time. "
   ]
  },
  {
   "cell_type": "markdown",
   "metadata": {},
   "source": [
    "## Scatter Plots\n",
    "I created scatterplots to compare Number_of_Casualties with Number_of_Vehicles, Time, and Speed_limit. "
   ]
  },
  {
   "cell_type": "code",
   "execution_count": 38,
   "metadata": {
    "scrolled": true
   },
   "outputs": [
    {
     "data": {
      "image/png": "[encoded data removed]",
      "text/plain": [
       "<Figure size 432x288 with 1 Axes>"
      ]
     },
     "metadata": {
      "needs_background": "light"
     },
     "output_type": "display_data"
    }
   ],
   "source": [
    "# compare Number of Casualties to Number of Vehicles\n",
    "plt.scatter(New_Accidents['Number_of_Vehicles'], New_Accidents['Number_of_Casualties'])\n",
    "plt.xlabel('Number Of Vehicles')\n",
    "plt.ylabel('Number Of Casualties')\n",
    "plt.show()"
   ]
  },
  {
   "cell_type": "markdown",
   "metadata": {},
   "source": [
    "From the scatterplot, we see there is a negative correlation between Number_of_Vehicles and Number_of_Casualties. As the number of vehicles increases, the number of casualties decreases. I found this result surprising. "
   ]
  },
  {
   "cell_type": "code",
   "execution_count": 39,
   "metadata": {
    "scrolled": true
   },
   "outputs": [
    {
     "data": {
      "image/png": "[encoded data removed]",
      "text/plain": [
       "<Figure size 432x288 with 1 Axes>"
      ]
     },
     "metadata": {
      "needs_background": "light"
     },
     "output_type": "display_data"
    }
   ],
   "source": [
    "# compare Number of Casualties to Time\n",
    "plt.plot_date(New_Accidents['Time'], New_Accidents['Number_of_Casualties'])\n",
    "plt.xlabel('Time')\n",
    "plt.ylabel('Number Of Casualties')\n",
    "plt.show()"
   ]
  },
  {
   "cell_type": "markdown",
   "metadata": {},
   "source": [
    "From this scatterplot, we see that small and large numbers of casualties occur fairly uniformly throughout the day. Therefore, there is not a specific time of day where we would expect an accident with a large number of casualties to occur. "
   ]
  },
  {
   "cell_type": "code",
   "execution_count": 40,
   "metadata": {},
   "outputs": [
    {
     "data": {
      "image/png": "[encoded data removed]",
      "text/plain": [
       "<Figure size 432x288 with 1 Axes>"
      ]
     },
     "metadata": {
      "needs_background": "light"
     },
     "output_type": "display_data"
    }
   ],
   "source": [
    "# compare Number of Casualties to Speed Limit\n",
    "plt.scatter(New_Accidents['Speed_limit'], New_Accidents['Number_of_Casualties'])\n",
    "plt.xlabel('Speed Limit')\n",
    "plt.ylabel('Number Of Casualties')\n",
    "plt.show()"
   ]
  },
  {
   "cell_type": "markdown",
   "metadata": {},
   "source": [
    "From the scatterplot, we see there is a positive correlation between Speed_limit and Number_of_Casualties. As the speed limit increases, we expect the number of casualties to increase. "
   ]
  },
  {
   "cell_type": "code",
   "execution_count": null,
   "metadata": {},
   "outputs": [],
   "source": []
  }
 ],
 "metadata": {
  "kernelspec": {
   "display_name": "Python 3",
   "language": "python",
   "name": "python3"
  },
  "language_info": {
   "codemirror_mode": {
    "name": "ipython",
    "version": 3
   },
   "file_extension": ".py",
   "mimetype": "text/x-python",
   "name": "python",
   "nbconvert_exporter": "python",
   "pygments_lexer": "ipython3",
   "version": "3.7.0"
  }
 },
 "nbformat": 4,
 "nbformat_minor": 2
}
